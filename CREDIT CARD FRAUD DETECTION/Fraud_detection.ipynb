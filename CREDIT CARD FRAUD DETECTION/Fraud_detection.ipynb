{
  "nbformat": 4,
  "nbformat_minor": 0,
  "metadata": {
    "colab": {
      "provenance": [],
      "gpuType": "T4"
    },
    "kernelspec": {
      "name": "python3",
      "display_name": "Python 3"
    },
    "language_info": {
      "name": "python"
    },
    "accelerator": "GPU"
  },
  "cells": [
    {
      "cell_type": "code",
      "source": [
        "import pandas as pd\n",
        "\n",
        "# Load both datasets\n",
        "train_df = pd.read_csv('/content/fraudTrain.csv')\n",
        "test_df = pd.read_csv('/content/fraudTest.csv')\n",
        "\n",
        "# Quick preview\n",
        "print(\"Train data:\")\n",
        "print(train_df.head())\n",
        "\n",
        "print(\"\\nTest data:\")\n",
        "print(test_df.head())"
      ],
      "metadata": {
        "colab": {
          "base_uri": "https://localhost:8080/"
        },
        "id": "Tmzf0Q7zWSPf",
        "outputId": "b09e35c1-b8a8-4c18-9e17-7635a1812310"
      },
      "execution_count": null,
      "outputs": [
        {
          "output_type": "stream",
          "name": "stdout",
          "text": [
            "Train data:\n",
            "   Unnamed: 0 trans_date_trans_time            cc_num  \\\n",
            "0           0   2019-01-01 00:00:18  2703186189652095   \n",
            "1           1   2019-01-01 00:00:44      630423337322   \n",
            "2           2   2019-01-01 00:00:51    38859492057661   \n",
            "3           3   2019-01-01 00:01:16  3534093764340240   \n",
            "4           4   2019-01-01 00:03:06   375534208663984   \n",
            "\n",
            "                             merchant       category     amt      first  \\\n",
            "0          fraud_Rippin, Kub and Mann       misc_net    4.97   Jennifer   \n",
            "1     fraud_Heller, Gutmann and Zieme    grocery_pos  107.23  Stephanie   \n",
            "2                fraud_Lind-Buckridge  entertainment  220.11     Edward   \n",
            "3  fraud_Kutch, Hermiston and Farrell  gas_transport   45.00     Jeremy   \n",
            "4                 fraud_Keeling-Crist       misc_pos   41.96      Tyler   \n",
            "\n",
            "      last gender                        street  ...      lat      long  \\\n",
            "0    Banks      F                561 Perry Cove  ...  36.0788  -81.1781   \n",
            "1     Gill      F  43039 Riley Greens Suite 393  ...  48.8878 -118.2105   \n",
            "2  Sanchez      M      594 White Dale Suite 530  ...  42.1808 -112.2620   \n",
            "3    White      M   9443 Cynthia Court Apt. 038  ...  46.2306 -112.1138   \n",
            "4   Garcia      M              408 Bradley Rest  ...  38.4207  -79.4629   \n",
            "\n",
            "   city_pop                                job         dob  \\\n",
            "0    3495.0          Psychologist, counselling  1988-03-09   \n",
            "1     149.0  Special educational needs teacher  1978-06-21   \n",
            "2    4154.0        Nature conservation officer  1962-01-19   \n",
            "3    1939.0                    Patent attorney  1967-01-12   \n",
            "4      99.0     Dance movement psychotherapist  1986-03-28   \n",
            "\n",
            "                          trans_num     unix_time  merch_lat  merch_long  \\\n",
            "0  0b242abb623afc578575680df30655b9  1.325376e+09  36.011293  -82.048315   \n",
            "1  1f76529f8574734946361c461b024d99  1.325376e+09  49.159047 -118.186462   \n",
            "2  a1a22d70485983eac12b5b88dad1cf95  1.325376e+09  43.150704 -112.154481   \n",
            "3  6b849c168bdad6f867558c3793159a81  1.325376e+09  47.034331 -112.561071   \n",
            "4  a41d7549acf90789359a9aa5346dcb46  1.325376e+09  38.674999  -78.632459   \n",
            "\n",
            "   is_fraud  \n",
            "0       0.0  \n",
            "1       0.0  \n",
            "2       0.0  \n",
            "3       0.0  \n",
            "4       0.0  \n",
            "\n",
            "[5 rows x 23 columns]\n",
            "\n",
            "Test data:\n",
            "   Unnamed: 0 trans_date_trans_time            cc_num  \\\n",
            "0           0   2020-06-21 12:14:25  2291163933867244   \n",
            "1           1   2020-06-21 12:14:33  3573030041201292   \n",
            "2           2   2020-06-21 12:14:53  3598215285024754   \n",
            "3           3   2020-06-21 12:15:15  3591919803438423   \n",
            "4           4   2020-06-21 12:15:17  3526826139003047   \n",
            "\n",
            "                               merchant        category    amt   first  \\\n",
            "0                 fraud_Kirlin and Sons   personal_care   2.86    Jeff   \n",
            "1                  fraud_Sporer-Keebler   personal_care  29.84  Joanne   \n",
            "2  fraud_Swaniawski, Nitzsche and Welch  health_fitness  41.28  Ashley   \n",
            "3                     fraud_Haley Group        misc_pos  60.05   Brian   \n",
            "4                 fraud_Johnston-Casper          travel   3.19  Nathan   \n",
            "\n",
            "       last gender                       street  ...      lat      long  \\\n",
            "0   Elliott      M            351 Darlene Green  ...  33.9659  -80.9355   \n",
            "1  Williams      F             3638 Marsh Union  ...  40.3207 -110.4360   \n",
            "2     Lopez      F         9333 Valentine Point  ...  40.6729  -73.5365   \n",
            "3  Williams      M  32941 Krystal Mill Apt. 552  ...  28.5697  -80.8191   \n",
            "4    Massey      M     5783 Evan Roads Apt. 465  ...  44.2529  -85.0170   \n",
            "\n",
            "   city_pop                     job         dob  \\\n",
            "0    333497     Mechanical engineer  1968-03-19   \n",
            "1       302  Sales professional, IT  1990-01-17   \n",
            "2     34496       Librarian, public  1970-10-21   \n",
            "3     54767            Set designer  1987-07-25   \n",
            "4      1126      Furniture designer  1955-07-06   \n",
            "\n",
            "                          trans_num   unix_time  merch_lat  merch_long  \\\n",
            "0  2da90c7d74bd46a0caf3777415b3ebd3  1371816865  33.986391  -81.200714   \n",
            "1  324cc204407e99f51b0d6ca0055005e7  1371816873  39.450498 -109.960431   \n",
            "2  c81755dbbbea9d5c77f094348a7579be  1371816893  40.495810  -74.196111   \n",
            "3  2159175b9efe66dc301f149d3d5abf8c  1371816915  28.812398  -80.883061   \n",
            "4  57ff021bd3f328f8738bb535c302a31b  1371816917  44.959148  -85.884734   \n",
            "\n",
            "   is_fraud  \n",
            "0         0  \n",
            "1         0  \n",
            "2         0  \n",
            "3         0  \n",
            "4         0  \n",
            "\n",
            "[5 rows x 23 columns]\n"
          ]
        }
      ]
    },
    {
      "cell_type": "code",
      "source": [
        "drop_cols = [\n",
        "    'Unnamed: 0', 'cc_num', 'trans_num', 'first', 'last', 'street',\n",
        "    'trans_date_trans_time', 'dob'\n",
        "]\n",
        "\n",
        "train_df.drop(columns=drop_cols, inplace=True)\n",
        "test_df.drop(columns=drop_cols, inplace=True)"
      ],
      "metadata": {
        "id": "i_vwltube9Xp"
      },
      "execution_count": null,
      "outputs": []
    },
    {
      "cell_type": "code",
      "source": [
        "print(\"Train missing values:\\n\", train_df.isnull().sum())\n",
        "print(\"\\nTest missing values:\\n\", test_df.isnull().sum())\n"
      ],
      "metadata": {
        "colab": {
          "base_uri": "https://localhost:8080/"
        },
        "id": "VLxhvZ12fiOV",
        "outputId": "b1cb7c98-e0c9-471a-930d-f68cf6aea582"
      },
      "execution_count": null,
      "outputs": [
        {
          "output_type": "stream",
          "name": "stdout",
          "text": [
            "Train missing values:\n",
            " merchant      0\n",
            "category      0\n",
            "amt           0\n",
            "gender        0\n",
            "city          0\n",
            "state         0\n",
            "zip           1\n",
            "lat           1\n",
            "long          1\n",
            "city_pop      1\n",
            "job           1\n",
            "unix_time     1\n",
            "merch_lat     1\n",
            "merch_long    1\n",
            "is_fraud      1\n",
            "dtype: int64\n",
            "\n",
            "Test missing values:\n",
            " merchant      0\n",
            "category      0\n",
            "amt           0\n",
            "gender        0\n",
            "city          0\n",
            "state         0\n",
            "zip           0\n",
            "lat           0\n",
            "long          0\n",
            "city_pop      0\n",
            "job           0\n",
            "unix_time     0\n",
            "merch_lat     0\n",
            "merch_long    0\n",
            "is_fraud      0\n",
            "dtype: int64\n"
          ]
        }
      ]
    },
    {
      "cell_type": "code",
      "source": [
        "train_df.dropna(inplace=True)"
      ],
      "metadata": {
        "id": "_rhES4gQfrh0"
      },
      "execution_count": null,
      "outputs": []
    },
    {
      "cell_type": "code",
      "source": [
        "print(train_df.dtypes)\n"
      ],
      "metadata": {
        "colab": {
          "base_uri": "https://localhost:8080/"
        },
        "id": "Njq_MaErfxj1",
        "outputId": "b893e7fc-144b-4f87-c689-65bceae0f946"
      },
      "execution_count": null,
      "outputs": [
        {
          "output_type": "stream",
          "name": "stdout",
          "text": [
            "merchant       object\n",
            "category       object\n",
            "amt           float64\n",
            "gender         object\n",
            "city           object\n",
            "state          object\n",
            "zip           float64\n",
            "lat           float64\n",
            "long          float64\n",
            "city_pop      float64\n",
            "job            object\n",
            "unix_time     float64\n",
            "merch_lat     float64\n",
            "merch_long    float64\n",
            "is_fraud      float64\n",
            "dtype: object\n"
          ]
        }
      ]
    },
    {
      "cell_type": "code",
      "source": [
        "for col in ['merchant', 'category', 'gender', 'city', 'state', 'job']:\n",
        "    print(f\"{col}: {train_df[col].nunique()} unique values\")\n"
      ],
      "metadata": {
        "colab": {
          "base_uri": "https://localhost:8080/"
        },
        "id": "xxbCYgcMf_vf",
        "outputId": "33c9de8f-b354-4fe9-8a0a-6f6b2606ab0f"
      },
      "execution_count": null,
      "outputs": [
        {
          "output_type": "stream",
          "name": "stdout",
          "text": [
            "merchant: 693 unique values\n",
            "category: 14 unique values\n",
            "gender: 2 unique values\n",
            "city: 863 unique values\n",
            "state: 51 unique values\n",
            "job: 483 unique values\n"
          ]
        }
      ]
    },
    {
      "cell_type": "code",
      "source": [
        "\n",
        "from sklearn.model_selection import train_test_split\n",
        "from sklearn.preprocessing import StandardScaler\n",
        "from sklearn.linear_model import LogisticRegression\n",
        "from sklearn.metrics import classification_report, confusion_matrix\n",
        "\n",
        "\n",
        "# Drop high-cardinality columns (too many unique values)\n",
        "high_card_cols = ['merchant', 'city', 'job']\n",
        "train_df.drop(columns=high_card_cols, inplace=True)\n",
        "test_df.drop(columns=high_card_cols, inplace=True)\n",
        "\n",
        "# One-hot encode low-cardinality categorical columns\n",
        "cat_cols = ['gender', 'category', 'state']\n",
        "train_df = pd.get_dummies(train_df, columns=cat_cols, drop_first=True)\n",
        "test_df = pd.get_dummies(test_df, columns=cat_cols, drop_first=True)\n",
        "\n",
        "# Align columns (in case test set is missing some dummy columns)\n",
        "train_df, test_df = train_df.align(test_df, join='left', axis=1, fill_value=0)\n",
        "\n",
        "# Split into features and target\n",
        "X_train = train_df.drop('is_fraud', axis=1)\n",
        "y_train = train_df['is_fraud']\n",
        "\n",
        "X_test = test_df.drop('is_fraud', axis=1)\n",
        "y_test = test_df['is_fraud']\n",
        "\n",
        "# Scale features\n",
        "scaler = StandardScaler()\n",
        "X_train = scaler.fit_transform(X_train)\n",
        "X_test = scaler.transform(X_test)\n",
        "\n",
        "# Train Logistic Regression model\n",
        "model = LogisticRegression(max_iter=1000, class_weight='balanced')\n",
        "model.fit(X_train, y_train)\n",
        "\n",
        "# Predict and evaluate\n",
        "y_pred = model.predict(X_test)\n",
        "\n",
        "print(\"Confusion Matrix:\\n\", confusion_matrix(y_test, y_pred))\n",
        "print(\"\\nClassification Report:\\n\", classification_report(y_test, y_pred))\n"
      ],
      "metadata": {
        "colab": {
          "base_uri": "https://localhost:8080/"
        },
        "id": "v7osNg7GhB93",
        "outputId": "b7b5e6f9-c9bf-4a34-9a81-f185760142f0"
      },
      "execution_count": null,
      "outputs": [
        {
          "output_type": "stream",
          "name": "stdout",
          "text": [
            "Confusion Matrix:\n",
            " [[518620  34954]\n",
            " [   582   1563]]\n",
            "\n",
            "Classification Report:\n",
            "               precision    recall  f1-score   support\n",
            "\n",
            "           0       1.00      0.94      0.97    553574\n",
            "           1       0.04      0.73      0.08      2145\n",
            "\n",
            "    accuracy                           0.94    555719\n",
            "   macro avg       0.52      0.83      0.52    555719\n",
            "weighted avg       1.00      0.94      0.96    555719\n",
            "\n"
          ]
        }
      ]
    },
    {
      "cell_type": "code",
      "source": [
        "y_pred = model.predict(X_test)\n",
        "from sklearn.metrics import classification_report, confusion_matrix, accuracy_score\n",
        "\n",
        "print(\"✅ Accuracy:\", accuracy_score(y_test, y_pred))\n",
        "print(\"\\n📊 Classification Report:\\n\", classification_report(y_test, y_pred))\n",
        "print(\"\\n🔍 Confusion Matrix:\\n\", confusion_matrix(y_test, y_pred))\n"
      ],
      "metadata": {
        "colab": {
          "base_uri": "https://localhost:8080/"
        },
        "id": "5ik8Ghe6hhH1",
        "outputId": "d77f376e-7a48-4475-d905-444901490064"
      },
      "execution_count": null,
      "outputs": [
        {
          "output_type": "stream",
          "name": "stdout",
          "text": [
            "✅ Accuracy: 0.936054012909402\n",
            "\n",
            "📊 Classification Report:\n",
            "               precision    recall  f1-score   support\n",
            "\n",
            "           0       1.00      0.94      0.97    553574\n",
            "           1       0.04      0.73      0.08      2145\n",
            "\n",
            "    accuracy                           0.94    555719\n",
            "   macro avg       0.52      0.83      0.52    555719\n",
            "weighted avg       1.00      0.94      0.96    555719\n",
            "\n",
            "\n",
            "🔍 Confusion Matrix:\n",
            " [[518620  34954]\n",
            " [   582   1563]]\n"
          ]
        }
      ]
    },
    {
      "cell_type": "code",
      "source": [],
      "metadata": {
        "id": "QZBUcfGpirKe"
      },
      "execution_count": null,
      "outputs": []
    }
  ]
}