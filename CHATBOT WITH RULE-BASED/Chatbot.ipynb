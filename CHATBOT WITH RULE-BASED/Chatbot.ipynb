{
  "cells": [
    {
      "cell_type": "code",
      "execution_count": 9,
      "metadata": {
        "colab": {
          "base_uri": "https://localhost:8080/"
        },
        "id": "EXPU5G-TEAGK",
        "outputId": "2c20f069-456a-42f8-f8da-2e4bd8e48fd4"
      },
      "outputs": [
        {
          "name": "stdout",
          "output_type": "stream",
          "text": [
            "Chatbot : Hi welcome to chatbot, type 'exist' to Quit\n",
            "User : Hi\n",
            "chatbot : Hello how are you\n",
            "User : iam fine\n",
            "chatbot : Thats great of you\n",
            "User : who are you\n",
            "chatbot : Iam a chatbot developed by the great Ashik\n",
            "User : Ohh Great\n",
            "chatbot : You are welcome, Whats more\n",
            "User : what is osmosis\n",
            "chatbot : Sorry i didnt get you\n",
            "User : okay bye\n",
            "chatbot : Thats great of you\n",
            "User : bye\n"
          ]
        }
      ],
      "source": [
        "import re\n",
        "def autochat(x):\n",
        "  if re.search(r'\\bhi\\b|\\bhello\\b|\\bhey\\b',x):\n",
        "    print(\"chatbot : Hello how are you\")\n",
        "  elif re.search(r'\\bfine\\b|\\bgood\\b|\\bokay\\b',x):\n",
        "    print(\"chatbot : Thats great of you\")\n",
        "  elif re.search(r'\\bwho are you\\b',x):\n",
        "    print(\"chatbot : Iam a chatbot developed by the great Ashik\")\n",
        "  elif re.search(r'\\bgreat\\b',x):\n",
        "    print(\"chatbot : You are welcome, Whats more\")\n",
        "  else:\n",
        "    print(\"chatbot : Sorry i didnt get you\")\n",
        "\n",
        "\n",
        "\n",
        "\n",
        "\n",
        "print(\"Chatbot : Hi welcome to chatbot, type 'exist' to Quit\")\n",
        "while True:\n",
        "  x=input(\"User : \")\n",
        "  x=x.lower()\n",
        "  if x in ['exit','bye']:\n",
        "    break\n",
        "  autochat(x)\n"
      ]
    },
    {
      "cell_type": "code",
      "execution_count": null,
      "metadata": {
        "id": "430TeUqlFhaO"
      },
      "outputs": [],
      "source": []
    }
  ],
  "metadata": {
    "colab": {
      "provenance": []
    },
    "kernelspec": {
      "display_name": "Python 3",
      "name": "python3"
    },
    "language_info": {
      "name": "python"
    }
  },
  "nbformat": 4,
  "nbformat_minor": 0
}